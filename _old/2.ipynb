{
 "cells": [
  {
   "cell_type": "code",
   "execution_count": 12,
   "metadata": {},
   "outputs": [],
   "source": [
    "from typing import NamedTuple\n",
    "import functools\n",
    "import jax\n",
    "from jax import numpy as jnp\n",
    "import numpy as np\n",
    "\n",
    "\n",
    "class Params(NamedTuple):\n",
    "    weight: jnp.ndarray\n",
    "    bias: jnp.ndarray\n",
    "\n",
    "def init(rng) -> Params:\n",
    "    weights_key, bias_key = jax.random.split(rng)\n",
    "    weight = jax.random.normal(weights_key, ())\n",
    "    bias = jax.random.normal(bias_key, ())\n",
    "    return Params(weight, bias)\n",
    "\n",
    "def loss_fn(params: Params, xs: jnp.ndarray, ys: jnp.ndarray) -> jnp.ndarray:\n",
    "    pred = params.weight * xs + params.bias\n",
    "    return jnp.mean((pred - ys)**2)\n",
    "\n",
    "lr = 5e-3\n",
    "\n",
    "def update(params: Params, xs: jnp.ndarray, ys: jnp.ndarray):\n",
    "    loss, grads = jax.value_and_grad(loss_fn)(params, xs, ys)\n",
    "    grads = jax.lax.pmean(grads, axis_name='num_devices')\n",
    "    loss = jax.lax.pmean(loss, axis_name='num_devices')\n",
    "    new_params = jax.tree_map(lambda param, g: param - g * lr, params, grads)\n",
    "\n",
    "    return new_params, loss\n",
    "\n"
   ]
  },
  {
   "cell_type": "code",
   "execution_count": 13,
   "metadata": {},
   "outputs": [
    {
     "data": {
      "text/plain": [
       "5"
      ]
     },
     "execution_count": 13,
     "metadata": {},
     "output_type": "execute_result"
    }
   ],
   "source": [
    "jax.local_device_count()"
   ]
  },
  {
   "cell_type": "code",
   "execution_count": 14,
   "metadata": {},
   "outputs": [],
   "source": [
    "true_w, true_b = 2, -1\n",
    "xs = np.random.normal(size=(128, 1))\n",
    "noise = 0.5 * np.random.normal(size=(128, 1))\n",
    "ys = xs * true_w + true_b + noise\n",
    "\n",
    "params = init(jax.random.PRNGKey(0))\n",
    "# n_devices = jax.local_device_count()\n",
    "n_devices = 4\n",
    "\n",
    "replicated_params = jax.tree_map(lambda x: jnp.array([x] * n_devices), params)"
   ]
  },
  {
   "cell_type": "code",
   "execution_count": 15,
   "metadata": {},
   "outputs": [
    {
     "data": {
      "text/plain": [
       "numpy.ndarray"
      ]
     },
     "execution_count": 15,
     "metadata": {},
     "output_type": "execute_result"
    }
   ],
   "source": [
    "def split(arr):\n",
    "  \"\"\"Splits the first axis of `arr` evenly across the number of devices.\"\"\"\n",
    "  return arr.reshape(n_devices, arr.shape[0] // n_devices, *arr.shape[1:])\n",
    "\n",
    "# Reshape xs and ys for the pmapped `update()`.\n",
    "x_split = split(xs)\n",
    "y_split = split(ys)\n",
    "\n",
    "type(x_split)"
   ]
  },
  {
   "cell_type": "code",
   "execution_count": 17,
   "metadata": {},
   "outputs": [
    {
     "name": "stdout",
     "output_type": "stream",
     "text": [
      "After 1st 'update()', 'replicated_params.weight: ' is a <class 'jaxlib.xla_extension.ArrayImpl'>\n",
      "After 1st 'update()', 'loss: ' is a <class 'jaxlib.xla_extension.ArrayImpl'>\n",
      "After 1st 'update()', 'x_split: ' is a <class 'numpy.ndarray'>\n",
      "Step   0, loss: 0.212\n",
      "Step 100, loss: 0.212\n",
      "Step 200, loss: 0.212\n",
      "Step 300, loss: 0.212\n",
      "Step 400, loss: 0.212\n",
      "Step 500, loss: 0.212\n",
      "Step 600, loss: 0.212\n",
      "Step 700, loss: 0.212\n",
      "Step 800, loss: 0.212\n",
      "Step 900, loss: 0.212\n"
     ]
    }
   ],
   "source": [
    "def type_after_update(name, obj):\n",
    "    print(f\"After 1st 'update()', '{name}' is a {type(obj)}\")\n",
    "\n",
    "for i in range(1000):\n",
    "    # replicated_params, loss = update(replicated_params, x_split, y_split)\n",
    "    replicated_params, loss = jax.pmap(update, axis_name='num_devices')(replicated_params, x_split, y_split)\n",
    "    \n",
    "    if i == 0:\n",
    "        type_after_update('replicated_params.weight: ', replicated_params.weight)\n",
    "        type_after_update('loss: ', loss)\n",
    "        type_after_update('x_split: ', x_split)\n",
    "    if i % 100 == 0:\n",
    "        print(f\"Step {i:3d}, loss: {loss[0]:.3f}\")\n",
    "\n",
    "params = jax.device_get(jax.tree_map(lambda x: x[0], replicated_params))\n",
    "\n"
   ]
  },
  {
   "cell_type": "code",
   "execution_count": null,
   "metadata": {},
   "outputs": [],
   "source": []
  }
 ],
 "metadata": {
  "kernelspec": {
   "display_name": "base",
   "language": "python",
   "name": "python3"
  },
  "language_info": {
   "codemirror_mode": {
    "name": "ipython",
    "version": 3
   },
   "file_extension": ".py",
   "mimetype": "text/x-python",
   "name": "python",
   "nbconvert_exporter": "python",
   "pygments_lexer": "ipython3",
   "version": "3.8.16"
  }
 },
 "nbformat": 4,
 "nbformat_minor": 2
}
